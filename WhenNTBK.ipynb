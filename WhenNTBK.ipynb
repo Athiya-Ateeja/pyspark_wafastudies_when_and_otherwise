{
 "cells": [
  {
   "cell_type": "code",
   "execution_count": 0,
   "metadata": {
    "application/vnd.databricks.v1+cell": {
     "cellMetadata": {
      "byteLimit": 2048000,
      "rowLimit": 10000
     },
     "inputWidgets": {},
     "nuid": "cb576772-337e-4ae1-9bbe-fa58012b3275",
     "showTitle": false,
     "title": ""
    }
   },
   "outputs": [
    {
     "output_type": "display_data",
     "data": {
      "text/html": [
       "<style scoped>\n",
       "  .table-result-container {\n",
       "    max-height: 300px;\n",
       "    overflow: auto;\n",
       "  }\n",
       "  table, th, td {\n",
       "    border: 1px solid black;\n",
       "    border-collapse: collapse;\n",
       "  }\n",
       "  th, td {\n",
       "    padding: 5px;\n",
       "  }\n",
       "  th {\n",
       "    text-align: left;\n",
       "  }\n",
       "</style><div class='table-result-container'><table class='table-result'><thead style='background-color: white'><tr><th>SNo</th><th>Name</th><th>Gender</th><th>Salary</th></tr></thead><tbody><tr><td>1</td><td>athiya</td><td>F</td><td>2000</td></tr><tr><td>2</td><td>Rimsha</td><td>F</td><td>3000</td></tr><tr><td>3</td><td>Rehan</td><td>M</td><td>5000</td></tr></tbody></table></div>"
      ]
     },
     "metadata": {
      "application/vnd.databricks.v1+output": {
       "addedWidgets": {},
       "aggData": [],
       "aggError": "",
       "aggOverflow": false,
       "aggSchema": [],
       "aggSeriesLimitReached": false,
       "aggType": "",
       "arguments": {},
       "columnCustomDisplayInfos": {},
       "data": [
        [
         1,
         "athiya",
         "F",
         2000
        ],
        [
         2,
         "Rimsha",
         "F",
         3000
        ],
        [
         3,
         "Rehan",
         "M",
         5000
        ]
       ],
       "datasetInfos": [],
       "dbfsResultPath": null,
       "isJsonSchema": true,
       "metadata": {},
       "overflow": false,
       "plotOptions": {
        "customPlotOptions": {},
        "displayType": "table",
        "pivotAggregation": null,
        "pivotColumns": null,
        "xColumns": null,
        "yColumns": null
       },
       "removedWidgets": [],
       "schema": [
        {
         "metadata": "{}",
         "name": "SNo",
         "type": "\"long\""
        },
        {
         "metadata": "{}",
         "name": "Name",
         "type": "\"string\""
        },
        {
         "metadata": "{}",
         "name": "Gender",
         "type": "\"string\""
        },
        {
         "metadata": "{}",
         "name": "Salary",
         "type": "\"long\""
        }
       ],
       "type": "table"
      }
     },
     "output_type": "display_data"
    }
   ],
   "source": [
    "data = [(1,'athiya','F',2000),(2,'Rimsha','F',3000),(3,'Rehan','M',5000)]\n",
    "schema = ('SNo','Name','Gender','Salary')\n",
    "df = spark.createDataFrame(data,schema)\n",
    "display(df)"
   ]
  },
  {
   "cell_type": "code",
   "execution_count": 0,
   "metadata": {
    "application/vnd.databricks.v1+cell": {
     "cellMetadata": {
      "byteLimit": 2048000,
      "rowLimit": 10000
     },
     "inputWidgets": {},
     "nuid": "fa1744df-ea5a-4b65-b5b2-1ce308e89881",
     "showTitle": false,
     "title": ""
    }
   },
   "outputs": [],
   "source": [
    "from pyspark.sql.functions import when"
   ]
  },
  {
   "cell_type": "markdown",
   "metadata": {
    "application/vnd.databricks.v1+cell": {
     "cellMetadata": {},
     "inputWidgets": {},
     "nuid": "ddc3ed68-206b-4ab6-a889-760c1ed723de",
     "showTitle": false,
     "title": ""
    }
   },
   "source": [
    "##when & otherwise"
   ]
  },
  {
   "cell_type": "code",
   "execution_count": 0,
   "metadata": {
    "application/vnd.databricks.v1+cell": {
     "cellMetadata": {
      "byteLimit": 2048000,
      "rowLimit": 10000
     },
     "inputWidgets": {},
     "nuid": "952ebc14-8b52-4a68-8017-6e8d5beb027d",
     "showTitle": false,
     "title": ""
    }
   },
   "outputs": [],
   "source": [
    "df1 = df.select(df.SNo,df.Name,df.Salary,when(df.Gender=='M','Male')\\\n",
    "    .when(df.Gender=='F','Female')\\\n",
    "    .otherwise('Unknown'))"
   ]
  },
  {
   "cell_type": "code",
   "execution_count": 0,
   "metadata": {
    "application/vnd.databricks.v1+cell": {
     "cellMetadata": {
      "byteLimit": 2048000,
      "rowLimit": 10000
     },
     "inputWidgets": {},
     "nuid": "008ee463-52db-4e20-ae8a-a8e6f2171ba3",
     "showTitle": false,
     "title": ""
    }
   },
   "outputs": [
    {
     "output_type": "stream",
     "name": "stdout",
     "output_type": "stream",
     "text": [
      "+---+------+------+-------------------------------------------------------------------------------+\n|SNo|  Name|Salary|CASE WHEN (Gender = M) THEN Male WHEN (Gender = F) THEN Female ELSE Unknown END|\n+---+------+------+-------------------------------------------------------------------------------+\n|  1|athiya|  2000|                                                                         Female|\n|  2|Rimsha|  3000|                                                                         Female|\n|  3| Rehan|  5000|                                                                           Male|\n+---+------+------+-------------------------------------------------------------------------------+\n\n"
     ]
    }
   ],
   "source": [
    "df1.show()"
   ]
  },
  {
   "cell_type": "markdown",
   "metadata": {
    "application/vnd.databricks.v1+cell": {
     "cellMetadata": {},
     "inputWidgets": {},
     "nuid": "345ef802-895f-4320-9e30-f5679f177866",
     "showTitle": false,
     "title": ""
    }
   },
   "source": [
    "##alias()"
   ]
  },
  {
   "cell_type": "code",
   "execution_count": 0,
   "metadata": {
    "application/vnd.databricks.v1+cell": {
     "cellMetadata": {
      "byteLimit": 2048000,
      "rowLimit": 10000
     },
     "inputWidgets": {},
     "nuid": "3781aafb-f0ef-4f63-809f-ec2dd789444f",
     "showTitle": false,
     "title": ""
    }
   },
   "outputs": [],
   "source": [
    "df = df.select(df.SNo,df.Name,df.Salary,when(df.Gender=='M','Male')\\\n",
    "    .when(df.Gender=='F','Female')\\\n",
    "    .otherwise('Unknown').alias('gender'))"
   ]
  },
  {
   "cell_type": "code",
   "execution_count": 0,
   "metadata": {
    "application/vnd.databricks.v1+cell": {
     "cellMetadata": {
      "byteLimit": 2048000,
      "rowLimit": 10000
     },
     "inputWidgets": {},
     "nuid": "bfef4091-e522-4891-99fd-a187299ee615",
     "showTitle": false,
     "title": ""
    }
   },
   "outputs": [
    {
     "output_type": "stream",
     "name": "stdout",
     "output_type": "stream",
     "text": [
      "+---+------+------+------+\n|SNo|  Name|Salary|gender|\n+---+------+------+------+\n|  1|athiya|  2000|Female|\n|  2|Rimsha|  3000|Female|\n|  3| Rehan|  5000|  Male|\n+---+------+------+------+\n\n"
     ]
    }
   ],
   "source": [
    "df.show()"
   ]
  }
 ],
 "metadata": {
  "application/vnd.databricks.v1+notebook": {
   "dashboards": [],
   "language": "python",
   "notebookMetadata": {
    "pythonIndentUnit": 4
   },
   "notebookName": "WhenNTBK",
   "widgets": {}
  }
 },
 "nbformat": 4,
 "nbformat_minor": 0
}
